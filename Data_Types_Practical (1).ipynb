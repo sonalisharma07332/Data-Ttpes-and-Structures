{
 "cells": [
  {
   "cell_type": "markdown",
   "id": "2118f090",
   "metadata": {},
   "source": [
    "1. Write a code to create a string with your name and print it. "
   ]
  },
  {
   "cell_type": "code",
   "execution_count": 2,
   "id": "d1ee6096",
   "metadata": {},
   "outputs": [
    {
     "name": "stdout",
     "output_type": "stream",
     "text": [
      "Sonali Sharma\n",
      "<class 'str'>\n"
     ]
    }
   ],
   "source": [
    "Name=\"Sonali Sharma\"\n",
    "print(Name)\n",
    "print(type(Name))"
   ]
  },
  {
   "cell_type": "markdown",
   "id": "2e30fa9e",
   "metadata": {},
   "source": [
    "2. Write a code to find the length of the string \"Hello World\"."
   ]
  },
  {
   "cell_type": "code",
   "execution_count": 4,
   "id": "211a54d9",
   "metadata": {},
   "outputs": [
    {
     "name": "stdout",
     "output_type": "stream",
     "text": [
      "11\n"
     ]
    }
   ],
   "source": [
    "String1=\"Hello World\"\n",
    "print(len(String1))"
   ]
  },
  {
   "cell_type": "markdown",
   "id": "4ba8ddd9",
   "metadata": {},
   "source": [
    "3. Write a code to slice the first 3 characters from the string \"Python Programming\"."
   ]
  },
  {
   "cell_type": "code",
   "execution_count": 8,
   "id": "da600197",
   "metadata": {},
   "outputs": [
    {
     "name": "stdout",
     "output_type": "stream",
     "text": [
      "Pyt\n"
     ]
    }
   ],
   "source": [
    "String1=\"Python Programming\"\n",
    "print(String1[0:3])"
   ]
  },
  {
   "cell_type": "markdown",
   "id": "f072f276",
   "metadata": {},
   "source": [
    "4. Write a code to convert the string \"hello\" to uppercase."
   ]
  },
  {
   "cell_type": "code",
   "execution_count": 13,
   "id": "e99e8fdf",
   "metadata": {},
   "outputs": [
    {
     "name": "stdout",
     "output_type": "stream",
     "text": [
      "HELLO\n"
     ]
    }
   ],
   "source": [
    "String1=\"hello\"\n",
    "print(String1.upper())"
   ]
  },
  {
   "cell_type": "markdown",
   "id": "cf3229bb",
   "metadata": {},
   "source": [
    "5. Write a code to replace the word 'apple' with 'orange' in the string \"I like apple\""
   ]
  },
  {
   "cell_type": "code",
   "execution_count": 15,
   "id": "cb186612",
   "metadata": {},
   "outputs": [
    {
     "name": "stdout",
     "output_type": "stream",
     "text": [
      "I like orange\n"
     ]
    }
   ],
   "source": [
    "String1=\"I like apple\"\n",
    "print(String1.replace(\"apple\",\"orange\"))"
   ]
  },
  {
   "cell_type": "markdown",
   "id": "52d2c819",
   "metadata": {},
   "source": [
    "6. Write a code to create a list with numbers 1 to 5 and print it."
   ]
  },
  {
   "cell_type": "code",
   "execution_count": null,
   "id": "ee17ef99",
   "metadata": {},
   "outputs": [
    {
     "name": "stdout",
     "output_type": "stream",
     "text": [
      "[1, 2, 3, 4, 5]\n"
     ]
    }
   ],
   "source": [
    "list1=[1,2,3,4,5]\n",
    "print(list1)"
   ]
  },
  {
   "cell_type": "markdown",
   "id": "d1be0e3a",
   "metadata": {},
   "source": [
    "7. Write a code to append the number 10 to the list [1,2,3,4]."
   ]
  },
  {
   "cell_type": "code",
   "execution_count": null,
   "id": "79a19bb5",
   "metadata": {},
   "outputs": [
    {
     "name": "stdout",
     "output_type": "stream",
     "text": [
      "[1, 2, 3, 4, 5, 10]\n"
     ]
    }
   ],
   "source": [
    "list1=[1,2,3,4,5]\n",
    "list1.append(10)\n",
    "print(list1)"
   ]
  },
  {
   "cell_type": "markdown",
   "id": "a018c310",
   "metadata": {},
   "source": [
    "8. Write a code to remove the number 3 from the list [1,2,3,4,5]."
   ]
  },
  {
   "cell_type": "code",
   "execution_count": 19,
   "id": "d93ec48a",
   "metadata": {},
   "outputs": [
    {
     "name": "stdout",
     "output_type": "stream",
     "text": [
      "[1, 2, 4, 5]\n"
     ]
    }
   ],
   "source": [
    "list1=[1,2,3,4,5]\n",
    "list1.remove(3)\n",
    "print(list1)"
   ]
  },
  {
   "cell_type": "markdown",
   "id": "eb035dcf",
   "metadata": {},
   "source": [
    "9. Write a code to access the second element in the list['a','b','c','d']."
   ]
  },
  {
   "cell_type": "code",
   "execution_count": 20,
   "id": "4f0000b0",
   "metadata": {},
   "outputs": [
    {
     "name": "stdout",
     "output_type": "stream",
     "text": [
      "b\n"
     ]
    }
   ],
   "source": [
    "list1=['a','b','c','d']\n",
    "print(list1[1])"
   ]
  },
  {
   "cell_type": "markdown",
   "id": "e2be8fdd",
   "metadata": {},
   "source": [
    "10. Write a code to reverse the list [10,20,30,40,50]."
   ]
  },
  {
   "cell_type": "code",
   "execution_count": 27,
   "id": "1b9b3684",
   "metadata": {},
   "outputs": [
    {
     "name": "stdout",
     "output_type": "stream",
     "text": [
      "[50, 40, 30, 20, 10]\n"
     ]
    }
   ],
   "source": [
    "list1=[10,20,30,40,50]\n",
    "print(list1[::-1])"
   ]
  },
  {
   "cell_type": "markdown",
   "id": "2b68f1a5",
   "metadata": {},
   "source": [
    "11. Write a code to create a tuple with the elements 100,200,300 and print it."
   ]
  },
  {
   "cell_type": "code",
   "execution_count": 28,
   "id": "39dcb7a7",
   "metadata": {},
   "outputs": [
    {
     "name": "stdout",
     "output_type": "stream",
     "text": [
      "(100, 200, 300)\n"
     ]
    }
   ],
   "source": [
    "tuple1=(100,200,300)\n",
    "print(tuple1)"
   ]
  },
  {
   "cell_type": "markdown",
   "id": "5082d2f3",
   "metadata": {},
   "source": [
    "12. Write a code to access the second-to-last element of the tuple ('red','green','blue','yellow')."
   ]
  },
  {
   "cell_type": "code",
   "execution_count": 29,
   "id": "1a0276ff",
   "metadata": {},
   "outputs": [
    {
     "name": "stdout",
     "output_type": "stream",
     "text": [
      "blue\n"
     ]
    }
   ],
   "source": [
    "tuple1=('red','green','blue','yellow')\n",
    "print(tuple1[-2])"
   ]
  },
  {
   "cell_type": "markdown",
   "id": "4d5b8807",
   "metadata": {},
   "source": [
    "13. Write a code to find the minimum number in the tuple(10,20,5,15)."
   ]
  },
  {
   "cell_type": "code",
   "execution_count": 30,
   "id": "289fb141",
   "metadata": {},
   "outputs": [
    {
     "name": "stdout",
     "output_type": "stream",
     "text": [
      "5\n"
     ]
    }
   ],
   "source": [
    "tuple1=(10,20,5,15)\n",
    "print(min(tuple1))"
   ]
  },
  {
   "cell_type": "markdown",
   "id": "e00c56c4",
   "metadata": {},
   "source": [
    "14. Write a code to find the index of the element 'cat' in the tuple ('dog','cat','rabbit')."
   ]
  },
  {
   "cell_type": "code",
   "execution_count": 31,
   "id": "9bd97a0e",
   "metadata": {},
   "outputs": [
    {
     "name": "stdout",
     "output_type": "stream",
     "text": [
      "1\n"
     ]
    }
   ],
   "source": [
    "tuple1=('dog','cat','rabbit')\n",
    "print(tuple1.index('cat'))"
   ]
  },
  {
   "cell_type": "markdown",
   "id": "3ae5a9f1",
   "metadata": {},
   "source": [
    "15. Write a code to create a tuple containing three different fruits and check 'kiwi' is in it."
   ]
  },
  {
   "cell_type": "code",
   "execution_count": 34,
   "id": "795289a0",
   "metadata": {},
   "outputs": [
    {
     "name": "stdout",
     "output_type": "stream",
     "text": [
      "kiwi is not in the tuple\n",
      "kiwi is in the tuple\n",
      "kiwi is not in the tuple\n"
     ]
    }
   ],
   "source": [
    "tuple1=('apple','kiwi','banana')\n",
    "for fruit in tuple1:\n",
    "    if fruit == 'kiwi':\n",
    "        print(\"kiwi is in the tuple\")\n",
    "    else:\n",
    "        print(\"kiwi is not in the tuple\")\n"
   ]
  },
  {
   "cell_type": "code",
   "execution_count": 35,
   "id": "bfc2256f",
   "metadata": {},
   "outputs": [
    {
     "name": "stdout",
     "output_type": "stream",
     "text": [
      "kiwi is not in the tuple\n",
      "kiwi is not in the tuple\n",
      "kiwi is not in the tuple\n"
     ]
    }
   ],
   "source": [
    "tuple1=('apple','mango','banana')\n",
    "for fruit in tuple1:\n",
    "    if fruit == 'kiwi':\n",
    "        print(\"kiwi is in the tuple\")\n",
    "    else:\n",
    "        print(\"kiwi is not in the tuple\")\n"
   ]
  },
  {
   "cell_type": "markdown",
   "id": "acc142fb",
   "metadata": {},
   "source": [
    "16. Write a code to create a set with the elements 'a','b','c' and print it."
   ]
  },
  {
   "cell_type": "code",
   "execution_count": 38,
   "id": "6db2861c",
   "metadata": {},
   "outputs": [
    {
     "name": "stdout",
     "output_type": "stream",
     "text": [
      "{'b', 'c', 'a'}\n"
     ]
    }
   ],
   "source": [
    "set1={'a','b','c'}\n",
    "print(set1)"
   ]
  },
  {
   "cell_type": "markdown",
   "id": "952c2d62",
   "metadata": {},
   "source": [
    "17. Write a code to clear all elements from the set {1,2,3,4,5}."
   ]
  },
  {
   "cell_type": "code",
   "execution_count": 39,
   "id": "a61f532c",
   "metadata": {},
   "outputs": [
    {
     "name": "stdout",
     "output_type": "stream",
     "text": [
      "set()\n"
     ]
    }
   ],
   "source": [
    "set1={1,2,3,4,5}\n",
    "set1.clear()\n",
    "print(set1)"
   ]
  },
  {
   "cell_type": "markdown",
   "id": "5e47db38",
   "metadata": {},
   "source": [
    "18. Write a code to remove the element 4 from the set {1,2,3,4}."
   ]
  },
  {
   "cell_type": "code",
   "execution_count": 41,
   "id": "c43eafbb",
   "metadata": {},
   "outputs": [
    {
     "name": "stdout",
     "output_type": "stream",
     "text": [
      "{1, 2, 3}\n"
     ]
    }
   ],
   "source": [
    "set1={1,2,3,4}\n",
    "set1.remove(4)\n",
    "print(set1)"
   ]
  },
  {
   "cell_type": "markdown",
   "id": "2c1ff149",
   "metadata": {},
   "source": [
    "19. Write a code to find the union of two sets {1,2,3} and {3,4,5}. "
   ]
  },
  {
   "cell_type": "code",
   "execution_count": 42,
   "id": "fcbf6087",
   "metadata": {},
   "outputs": [
    {
     "name": "stdout",
     "output_type": "stream",
     "text": [
      "{1, 2, 3, 4, 5}\n"
     ]
    }
   ],
   "source": [
    "set1={1,2,3}\n",
    "set2={3,4,5}\n",
    "set3=set1.union(set2)\n",
    "print(set3)"
   ]
  },
  {
   "cell_type": "markdown",
   "id": "fb323414",
   "metadata": {},
   "source": [
    "20. Write a code to find the intersection of two sets {1,2,3} and {2,3,4}. "
   ]
  },
  {
   "cell_type": "code",
   "execution_count": 43,
   "id": "6a25f728",
   "metadata": {},
   "outputs": [
    {
     "name": "stdout",
     "output_type": "stream",
     "text": [
      "{2, 3}\n"
     ]
    }
   ],
   "source": [
    "set={1,2,3}\n",
    "set2={2,3,4}\n",
    "set3=set1.intersection(set2)\n",
    "print(set3)"
   ]
  },
  {
   "cell_type": "markdown",
   "id": "f9b63ee2",
   "metadata": {},
   "source": [
    "21. Write a code to create a dictionary with the keys \"name\", \"age\", and \"city\", and print it.\n"
   ]
  },
  {
   "cell_type": "code",
   "execution_count": 1,
   "id": "e3521e1f",
   "metadata": {},
   "outputs": [
    {
     "name": "stdout",
     "output_type": "stream",
     "text": [
      "{'name': 'Rajib', 'age': 34}\n"
     ]
    }
   ],
   "source": [
    "dict1={\"name\":\"Rajib\",\"age\":34}\n",
    "print(dict1)"
   ]
  },
  {
   "cell_type": "markdown",
   "id": "a5f4e679",
   "metadata": {},
   "source": [
    "22. Write a code to add a new key-value pair \"country\": \"USA\" to the dictionary {'name': 'John', 'age': 25}.\n"
   ]
  },
  {
   "cell_type": "code",
   "execution_count": 5,
   "id": "c7e6b272",
   "metadata": {},
   "outputs": [
    {
     "name": "stdout",
     "output_type": "stream",
     "text": [
      "{'name': 'John', 'age': 25}\n",
      "{'name': 'John', 'age': 25, 'Country': 'USA'}\n"
     ]
    }
   ],
   "source": [
    "dict1={\"name\":\"John\",\"age\":25}\n",
    "print(dict1)\n",
    "dict1.update({\"Country\":\"USA\"})\n",
    "print(dict1)"
   ]
  },
  {
   "cell_type": "markdown",
   "id": "99302346",
   "metadata": {},
   "source": [
    "23. Write a code to access the value associated with the key \"name\" in the dictionary {'name': 'Alice', 'age': 30}.\n"
   ]
  },
  {
   "cell_type": "code",
   "execution_count": 8,
   "id": "943a6d9c",
   "metadata": {},
   "outputs": [
    {
     "name": "stdout",
     "output_type": "stream",
     "text": [
      "Alice\n"
     ]
    }
   ],
   "source": [
    "dict1={\"name\":\"Alice\",\"age\":30}\n",
    "name=dict1.get(\"name\")\n",
    "print(name)"
   ]
  },
  {
   "cell_type": "markdown",
   "id": "86565381",
   "metadata": {},
   "source": [
    "24. Write a code to remove the key \"age\" from the dictionary {'name': 'Bob', 'age': 22, 'city': 'New York'}.\n"
   ]
  },
  {
   "cell_type": "code",
   "execution_count": 11,
   "id": "ff1be823",
   "metadata": {},
   "outputs": [
    {
     "name": "stdout",
     "output_type": "stream",
     "text": [
      "{'name': 'Bob', 'age': 22, 'city': 'New York'}\n",
      "{'name': 'Bob', 'city': 'New York'}\n"
     ]
    }
   ],
   "source": [
    "dict1={'name': 'Bob', 'age': 22, 'city': 'New York'}\n",
    "print(dict1)\n",
    "del dict1['age']\n",
    "print(dict1)"
   ]
  },
  {
   "cell_type": "markdown",
   "id": "ceadfc1b",
   "metadata": {},
   "source": [
    "25. Write a code to check if the key \"city\" exists in the dictionary {'name': 'Alice', 'city': 'Paris'}.\n"
   ]
  },
  {
   "cell_type": "code",
   "execution_count": 13,
   "id": "b6fe7794",
   "metadata": {},
   "outputs": [
    {
     "name": "stdout",
     "output_type": "stream",
     "text": [
      "{'name': 'Alice', 'city': 'Paris'}\n",
      "City is present in the dictionary\n"
     ]
    }
   ],
   "source": [
    "dict1={'name':'Alice', 'city': 'Paris'}\n",
    "print(dict1)\n",
    "if 'city' in dict1:\n",
    "    print(\"City is present in the dictionary\")\n",
    "else:\n",
    "    print(\"City is not present in the dictionary\")"
   ]
  },
  {
   "cell_type": "code",
   "execution_count": 14,
   "id": "282f23d4",
   "metadata": {},
   "outputs": [
    {
     "name": "stdout",
     "output_type": "stream",
     "text": [
      "{'name': 'Alice', 'city': 'Paris'}\n",
      "The key 'City' is present in the dictionary\n"
     ]
    }
   ],
   "source": [
    "dict1={'name':'Alice', 'city': 'Paris'}\n",
    "print(dict1)\n",
    "if dict1.get('city') is not None:\n",
    "    print(\"The key 'City' is present in the dictionary\")\n",
    "else:\n",
    "    print(\"The key 'City' is not present in the dictionary\")"
   ]
  },
  {
   "cell_type": "markdown",
   "id": "7bc2f478",
   "metadata": {},
   "source": [
    "26. Write a code to create a list, a tuple, and a dictionary, and print them all.\n"
   ]
  },
  {
   "cell_type": "code",
   "execution_count": 17,
   "id": "c179be98",
   "metadata": {},
   "outputs": [
    {
     "name": "stdout",
     "output_type": "stream",
     "text": [
      "[10, 20, 30, 40, 50]\n",
      "(10, 20, 30, 40, 50)\n",
      "{'name': 'Alice', 'city': 'Paris'}\n"
     ]
    }
   ],
   "source": [
    "list1=[10,20,30,40,50]\n",
    "print(list1)\n",
    "tuple1=tuple(list1)\n",
    "print(tuple1)\n",
    "dict1={'name': 'Alice', 'city': 'Paris'}\n",
    "print(dict1)\n"
   ]
  },
  {
   "cell_type": "markdown",
   "id": "70933fc5",
   "metadata": {},
   "source": [
    "27. Write a code to create a list of 5 random numbers between 1 and 100, sort it in ascending order, and print the\n",
    "result.(replaced)\n"
   ]
  },
  {
   "cell_type": "code",
   "execution_count": 26,
   "id": "fa128d23",
   "metadata": {},
   "outputs": [
    {
     "name": "stdout",
     "output_type": "stream",
     "text": [
      "[55, 24, 85, 67, 95]\n",
      "[24, 55, 67, 85, 95]\n"
     ]
    }
   ],
   "source": [
    "list1=[55,24,85,67,95]\n",
    "print(list1) # Unsorted list\n",
    "list1.sort()\n",
    "print(list1)  # After sorting the list in ascending order"
   ]
  },
  {
   "cell_type": "markdown",
   "id": "cf988a30",
   "metadata": {},
   "source": [
    "28. Write a code to create a list with strings and print the element at the third index.\n"
   ]
  },
  {
   "cell_type": "code",
   "execution_count": 24,
   "id": "f5fde2db",
   "metadata": {},
   "outputs": [
    {
     "name": "stdout",
     "output_type": "stream",
     "text": [
      "['Suresh', 'Rakesh', 'Sonia', 'Taniya', 'Ekta']\n",
      "Sonia\n"
     ]
    }
   ],
   "source": [
    "list1=[\"Suresh\",\"Rakesh\",\"Sonia\",\"Taniya\",\"Ekta\"]\n",
    "print(list1)\n",
    "print(list1[2])"
   ]
  },
  {
   "cell_type": "markdown",
   "id": "27eb0c0e",
   "metadata": {},
   "source": [
    "29. Write a code to combine two dictionaries into one and print the result.\n"
   ]
  },
  {
   "cell_type": "code",
   "execution_count": 22,
   "id": "7e448153",
   "metadata": {},
   "outputs": [
    {
     "name": "stdout",
     "output_type": "stream",
     "text": [
      "{'name': 'Alice', 'city': 'Paris'}\n",
      "{'age': 22, 'city': 'New York', 'Occupation': 'Engineer'}\n",
      "{'name': 'Alice', 'city': 'New York', 'age': 22, 'Occupation': 'Engineer'}\n"
     ]
    }
   ],
   "source": [
    "dict1={'name':'Alice', 'city': 'Paris'}\n",
    "print(dict1)\n",
    "dict2={'age':22,'city':'New York','Occupation':'Engineer'}\n",
    "print(dict2)\n",
    "dict1.update(dict2)\n",
    "print(dict1)"
   ]
  },
  {
   "cell_type": "markdown",
   "id": "3786c317",
   "metadata": {},
   "source": [
    "30. Write a code to convert a list of strings into a set."
   ]
  },
  {
   "cell_type": "code",
   "execution_count": 18,
   "id": "d020a11e",
   "metadata": {},
   "outputs": [
    {
     "name": "stdout",
     "output_type": "stream",
     "text": [
      "Hello World\n",
      "{'d', ' ', 'H', 'e', 'W', 'l', 'o', 'r'}\n"
     ]
    }
   ],
   "source": [
    "string1=\"Hello World\"\n",
    "print(string1)\n",
    "set1=set(string1)\n",
    "print(set1)"
   ]
  },
  {
   "cell_type": "code",
   "execution_count": 19,
   "id": "1972a76c",
   "metadata": {},
   "outputs": [
    {
     "name": "stdout",
     "output_type": "stream",
     "text": [
      "PW Skills\n",
      "{'P', 'k', ' ', 's', 'W', 'l', 'S', 'i'}\n"
     ]
    }
   ],
   "source": [
    "string1=\"PW Skills\"\n",
    "print(string1)\n",
    "set1=set(string1)\n",
    "print(set1)"
   ]
  }
 ],
 "metadata": {
  "kernelspec": {
   "display_name": "Python 3",
   "language": "python",
   "name": "python3"
  },
  "language_info": {
   "codemirror_mode": {
    "name": "ipython",
    "version": 3
   },
   "file_extension": ".py",
   "mimetype": "text/x-python",
   "name": "python",
   "nbconvert_exporter": "python",
   "pygments_lexer": "ipython3",
   "version": "3.11.9"
  }
 },
 "nbformat": 4,
 "nbformat_minor": 5
}
